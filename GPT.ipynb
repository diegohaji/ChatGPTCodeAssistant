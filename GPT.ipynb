{
 "cells": [
  {
   "cell_type": "code",
   "execution_count": null,
   "metadata": {},
   "outputs": [],
   "source": [
    "#!pip install --upgrade openai ipywidgets\n"
   ]
  },
  {
   "cell_type": "code",
   "execution_count": null,
   "metadata": {},
   "outputs": [],
   "source": [
    "from openai import OpenAI\n",
    "import ipywidgets as widgets\n",
    "from IPython.display import display, Markdown"
   ]
  },
  {
   "cell_type": "code",
   "execution_count": null,
   "metadata": {},
   "outputs": [],
   "source": [
    "# Defina sua chave de API da OpenAI\n",
    "client = OpenAI(api_key= 'your-openai-api-key')"
   ]
  },
  {
   "cell_type": "code",
   "execution_count": null,
   "metadata": {},
   "outputs": [],
   "source": [
    "# Função para gerar código\n",
    "def generate_code(prompt):\n",
    "    # Example OpenAI Python library request\n",
    "    MODEL = \"gpt-3.5-turbo\"\n",
    "    response = client.chat.completions.create(\n",
    "        model=MODEL,\n",
    "        messages=[\n",
    "            {\"role\": \"system\", \"content\": \"You are a helpful programing assistant.\"},\n",
    "            {\"role\": \"user\", \"content\": prompt},\n",
    "            \n",
    "        ],\n",
    "        temperature=0,\n",
    "    )\n",
    "\n",
    "    code = response.choices[0].message['content'].strip()\n",
    "    return code"
   ]
  },
  {
   "cell_type": "code",
   "execution_count": null,
   "metadata": {},
   "outputs": [],
   "source": [
    "\n",
    "# Função para corrigir código\n",
    "def correct_code(code):\n",
    "    prompt = f\"Corrija o seguinte código Python:\\n\\n{code}\"\n",
    "    corrected_code = generate_code(prompt)\n",
    "    return corrected_code\n"
   ]
  },
  {
   "cell_type": "code",
   "execution_count": null,
   "metadata": {},
   "outputs": [],
   "source": [
    "\n",
    "# Interface do usuário\n",
    "prompt_input = widgets.Text(\n",
    "    description='Prompt:',\n",
    "    style={'description_width': 'initial'}\n",
    ")\n",
    "\n",
    "generate_button = widgets.Button(description=\"Generate Code\")\n",
    "correct_button = widgets.Button(description=\"Correct Code\")\n",
    "\n",
    "output_area = widgets.Output()"
   ]
  },
  {
   "cell_type": "code",
   "execution_count": null,
   "metadata": {},
   "outputs": [],
   "source": [
    "def on_generate_button_clicked(b):\n",
    "    with output_area:\n",
    "        output_area.clear_output()\n",
    "        prompt = prompt_input.value\n",
    "        generated_code = generate_code(prompt)\n",
    "        display(Markdown(f\"### Generated Code:\\n```python\\n{generated_code}\\n```\"))\n",
    "\n",
    "def on_correct_button_clicked(b):\n",
    "    with output_area:\n",
    "        output_area.clear_output()\n",
    "        code = prompt_input.value\n",
    "        corrected_code = correct_code(code)\n",
    "        display(Markdown(f\"### Corrected Code:\\n```python\\n{corrected_code}\\n```\"))\n",
    "\n",
    "generate_button.on_click(on_generate_button_clicked)\n",
    "correct_button.on_click(on_correct_button_clicked)\n",
    "\n",
    "display(prompt_input, generate_button, correct_button, output_area)"
   ]
  }
 ],
 "metadata": {
  "kernelspec": {
   "display_name": "Python 3",
   "language": "python",
   "name": "python3"
  },
  "language_info": {
   "codemirror_mode": {
    "name": "ipython",
    "version": 3
   },
   "file_extension": ".py",
   "mimetype": "text/x-python",
   "name": "python",
   "nbconvert_exporter": "python",
   "pygments_lexer": "ipython3",
   "version": "3.10.7"
  }
 },
 "nbformat": 4,
 "nbformat_minor": 2
}
